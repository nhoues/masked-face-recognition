{
 "cells": [
  {
   "cell_type": "markdown",
   "metadata": {
    "papermill": {
     "duration": 11.109468,
     "end_time": "2021-01-02T08:32:16.461423",
     "exception": false,
     "start_time": "2021-01-02T08:32:05.351955",
     "status": "completed"
    },
    "tags": []
   },
   "source": [
    "# Set Up"
   ]
  },
  {
   "cell_type": "code",
   "execution_count": 22,
   "metadata": {
    "_cell_guid": "b1076dfc-b9ad-4769-8c92-a6c4dae69d19",
    "_uuid": "8f2839f25d086af736a60e9eeb907d3b93b6e0e5",
    "papermill": {
     "duration": 1.1376,
     "end_time": "2021-01-02T08:32:17.62095",
     "exception": false,
     "start_time": "2021-01-02T08:32:16.48335",
     "status": "completed"
    },
    "tags": []
   },
   "outputs": [],
   "source": [
    "# import the necessary packages\n",
    "from sklearn.metrics import classification_report\n",
    "from sklearn.metrics import accuracy_score\n",
    "from sklearn import metrics\n",
    "\n",
    "from imutils import paths\n",
    "import matplotlib.pyplot as plt\n",
    "import numpy as np\n",
    "import argparse\n",
    "import os\n",
    "import pandas as pd \n",
    "import seaborn as sns\n",
    "\n",
    "import torch \n",
    "import torch.nn as nn\n",
    "import albumentations as A\n",
    "from PIL  import Image \n",
    "\n",
    "from models.model import *\n",
    "from utils import * \n",
    "from utils.dataset import * \n",
    "from utils.engine import * "
   ]
  },
  {
   "cell_type": "markdown",
   "metadata": {},
   "source": [
    "# Load dataset"
   ]
  },
  {
   "cell_type": "code",
   "execution_count": 8,
   "metadata": {},
   "outputs": [],
   "source": [
    "train = pd.read_csv('dataset/celeb_faces_data/train.csv')"
   ]
  },
  {
   "cell_type": "code",
   "execution_count": 9,
   "metadata": {},
   "outputs": [
    {
     "data": {
      "text/html": [
       "<div>\n",
       "<style scoped>\n",
       "    .dataframe tbody tr th:only-of-type {\n",
       "        vertical-align: middle;\n",
       "    }\n",
       "\n",
       "    .dataframe tbody tr th {\n",
       "        vertical-align: top;\n",
       "    }\n",
       "\n",
       "    .dataframe thead th {\n",
       "        text-align: right;\n",
       "    }\n",
       "</style>\n",
       "<table border=\"1\" class=\"dataframe\">\n",
       "  <thead>\n",
       "    <tr style=\"text-align: right;\">\n",
       "      <th></th>\n",
       "      <th>Unnamed: 0</th>\n",
       "      <th>name</th>\n",
       "      <th>unmasked_path</th>\n",
       "      <th>class</th>\n",
       "      <th>path_to_cropped_im</th>\n",
       "      <th>path_to_cropped_image</th>\n",
       "      <th>path_to_masked_image</th>\n",
       "    </tr>\n",
       "  </thead>\n",
       "  <tbody>\n",
       "    <tr>\n",
       "      <th>0</th>\n",
       "      <td>0</td>\n",
       "      <td>mindy_kaling</td>\n",
       "      <td>dataset/celeb_faces_data/train/mindy_kaling/ht...</td>\n",
       "      <td>4</td>\n",
       "      <td>dataset/celeb_faces_data/train/mindy_kaling/cr...</td>\n",
       "      <td>dataset/celeb_faces_data/train/mindy_kaling/cr...</td>\n",
       "      <td>dataset/celeb_faces_data/train/mindy_kaling/ma...</td>\n",
       "    </tr>\n",
       "    <tr>\n",
       "      <th>1</th>\n",
       "      <td>1</td>\n",
       "      <td>mindy_kaling</td>\n",
       "      <td>dataset/celeb_faces_data/train/mindy_kaling/ht...</td>\n",
       "      <td>4</td>\n",
       "      <td>dataset/celeb_faces_data/train/mindy_kaling/cr...</td>\n",
       "      <td>dataset/celeb_faces_data/train/mindy_kaling/cr...</td>\n",
       "      <td>dataset/celeb_faces_data/train/mindy_kaling/ma...</td>\n",
       "    </tr>\n",
       "    <tr>\n",
       "      <th>2</th>\n",
       "      <td>2</td>\n",
       "      <td>mindy_kaling</td>\n",
       "      <td>dataset/celeb_faces_data/train/mindy_kaling/ht...</td>\n",
       "      <td>4</td>\n",
       "      <td>dataset/celeb_faces_data/train/mindy_kaling/cr...</td>\n",
       "      <td>dataset/celeb_faces_data/train/mindy_kaling/cr...</td>\n",
       "      <td>dataset/celeb_faces_data/train/mindy_kaling/ma...</td>\n",
       "    </tr>\n",
       "    <tr>\n",
       "      <th>3</th>\n",
       "      <td>3</td>\n",
       "      <td>mindy_kaling</td>\n",
       "      <td>dataset/celeb_faces_data/train/mindy_kaling/ht...</td>\n",
       "      <td>4</td>\n",
       "      <td>dataset/celeb_faces_data/train/mindy_kaling/cr...</td>\n",
       "      <td>dataset/celeb_faces_data/train/mindy_kaling/cr...</td>\n",
       "      <td>dataset/celeb_faces_data/train/mindy_kaling/ma...</td>\n",
       "    </tr>\n",
       "    <tr>\n",
       "      <th>4</th>\n",
       "      <td>4</td>\n",
       "      <td>mindy_kaling</td>\n",
       "      <td>dataset/celeb_faces_data/train/mindy_kaling/ht...</td>\n",
       "      <td>4</td>\n",
       "      <td>dataset/celeb_faces_data/train/mindy_kaling/cr...</td>\n",
       "      <td>dataset/celeb_faces_data/train/mindy_kaling/cr...</td>\n",
       "      <td>dataset/celeb_faces_data/train/mindy_kaling/ma...</td>\n",
       "    </tr>\n",
       "  </tbody>\n",
       "</table>\n",
       "</div>"
      ],
      "text/plain": [
       "   Unnamed: 0          name  \\\n",
       "0           0  mindy_kaling   \n",
       "1           1  mindy_kaling   \n",
       "2           2  mindy_kaling   \n",
       "3           3  mindy_kaling   \n",
       "4           4  mindy_kaling   \n",
       "\n",
       "                                       unmasked_path  class  \\\n",
       "0  dataset/celeb_faces_data/train/mindy_kaling/ht...      4   \n",
       "1  dataset/celeb_faces_data/train/mindy_kaling/ht...      4   \n",
       "2  dataset/celeb_faces_data/train/mindy_kaling/ht...      4   \n",
       "3  dataset/celeb_faces_data/train/mindy_kaling/ht...      4   \n",
       "4  dataset/celeb_faces_data/train/mindy_kaling/ht...      4   \n",
       "\n",
       "                                  path_to_cropped_im  \\\n",
       "0  dataset/celeb_faces_data/train/mindy_kaling/cr...   \n",
       "1  dataset/celeb_faces_data/train/mindy_kaling/cr...   \n",
       "2  dataset/celeb_faces_data/train/mindy_kaling/cr...   \n",
       "3  dataset/celeb_faces_data/train/mindy_kaling/cr...   \n",
       "4  dataset/celeb_faces_data/train/mindy_kaling/cr...   \n",
       "\n",
       "                               path_to_cropped_image  \\\n",
       "0  dataset/celeb_faces_data/train/mindy_kaling/cr...   \n",
       "1  dataset/celeb_faces_data/train/mindy_kaling/cr...   \n",
       "2  dataset/celeb_faces_data/train/mindy_kaling/cr...   \n",
       "3  dataset/celeb_faces_data/train/mindy_kaling/cr...   \n",
       "4  dataset/celeb_faces_data/train/mindy_kaling/cr...   \n",
       "\n",
       "                                path_to_masked_image  \n",
       "0  dataset/celeb_faces_data/train/mindy_kaling/ma...  \n",
       "1  dataset/celeb_faces_data/train/mindy_kaling/ma...  \n",
       "2  dataset/celeb_faces_data/train/mindy_kaling/ma...  \n",
       "3  dataset/celeb_faces_data/train/mindy_kaling/ma...  \n",
       "4  dataset/celeb_faces_data/train/mindy_kaling/ma...  "
      ]
     },
     "execution_count": 9,
     "metadata": {},
     "output_type": "execute_result"
    }
   ],
   "source": [
    "train.head()"
   ]
  },
  {
   "cell_type": "code",
   "execution_count": 12,
   "metadata": {},
   "outputs": [
    {
     "name": "stderr",
     "output_type": "stream",
     "text": [
      "/opt/conda/lib/python3.7/site-packages/seaborn/_decorators.py:43: FutureWarning: Pass the following variable as a keyword arg: x. From version 0.12, the only valid positional argument will be `data`, and passing other arguments without an explicit keyword will result in an error or misinterpretation.\n",
      "  FutureWarning\n"
     ]
    },
    {
     "data": {
      "image/png": "[encoded data removed]",
      "text/plain": [
       "<Figure size 432x288 with 1 Axes>"
      ]
     },
     "metadata": {
      "needs_background": "light"
     },
     "output_type": "display_data"
    }
   ],
   "source": [
    "sns.countplot(train['class'])\n",
    "plt.title('Number of images per class');"
   ]
  },
  {
   "cell_type": "code",
   "execution_count": 14,
   "metadata": {},
   "outputs": [],
   "source": [
    "valid = pd.read_csv('dataset/celeb_faces_data/valid.csv')"
   ]
  },
  {
   "cell_type": "code",
   "execution_count": 15,
   "metadata": {},
   "outputs": [
    {
     "name": "stderr",
     "output_type": "stream",
     "text": [
      "/opt/conda/lib/python3.7/site-packages/seaborn/_decorators.py:43: FutureWarning: Pass the following variable as a keyword arg: x. From version 0.12, the only valid positional argument will be `data`, and passing other arguments without an explicit keyword will result in an error or misinterpretation.\n",
      "  FutureWarning\n"
     ]
    },
    {
     "data": {
      "image/png": "[encoded data removed]",
      "text/plain": [
       "<Figure size 432x288 with 1 Axes>"
      ]
     },
     "metadata": {
      "needs_background": "light"
     },
     "output_type": "display_data"
    }
   ],
   "source": [
    "sns.countplot(valid['class'])\n",
    "plt.title('Number of images per class');"
   ]
  },
  {
   "cell_type": "markdown",
   "metadata": {
    "papermill": {
     "duration": 0.02972,
     "end_time": "2021-01-02T08:32:41.048149",
     "exception": false,
     "start_time": "2021-01-02T08:32:41.018429",
     "status": "completed"
    },
    "tags": []
   },
   "source": [
    "# Training "
   ]
  },
  {
   "cell_type": "code",
   "execution_count": 16,
   "metadata": {
    "collapsed": true,
    "execution": {
     "iopub.execute_input": "2021-01-02T08:32:41.114815Z",
     "iopub.status.busy": "2021-01-02T08:32:41.114148Z",
     "iopub.status.idle": "2021-01-02T08:51:32.385323Z",
     "shell.execute_reply": "2021-01-02T08:51:32.38585Z"
    },
    "jupyter": {
     "outputs_hidden": true
    },
    "papermill": {
     "duration": 1131.308902,
     "end_time": "2021-01-02T08:51:32.385988",
     "exception": false,
     "start_time": "2021-01-02T08:32:41.077086",
     "status": "completed"
    },
    "tags": []
   },
   "outputs": [
    {
     "data": {
      "application/vnd.jupyter.widget-view+json": {
       "model_id": "22c2f42ab4d243d29e6fe9cf3b2d829b",
       "version_major": 2,
       "version_minor": 0
      },
      "text/plain": [
       "  0%|          | 0.00/107M [00:00<?, ?B/s]"
      ]
     },
     "metadata": {},
     "output_type": "display_data"
    },
    {
     "name": "stdout",
     "output_type": "stream",
     "text": [
      "--------- Epoch 0 ---------\n"
     ]
    },
    {
     "name": "stderr",
     "output_type": "stream",
     "text": [
      "100%|██████████| 6/6 [00:01<00:00,  3.11it/s, loss=1.53]"
     ]
    },
    {
     "name": "stdout",
     "output_type": "stream",
     "text": [
      " train_loss  = 1.485555112361908\n"
     ]
    },
    {
     "name": "stderr",
     "output_type": "stream",
     "text": [
      "\n",
      "100%|██████████| 2/2 [00:00<00:00,  9.59it/s, loss=1.22]\n"
     ]
    },
    {
     "name": "stdout",
     "output_type": "stream",
     "text": [
      " val_loss  = 1.2012854218482971\n",
      "--------- Epoch 1 ---------\n"
     ]
    },
    {
     "name": "stderr",
     "output_type": "stream",
     "text": [
      "100%|██████████| 6/6 [00:01<00:00,  5.21it/s, loss=0.559]"
     ]
    },
    {
     "name": "stdout",
     "output_type": "stream",
     "text": [
      " train_loss  = 0.5541071246067683\n"
     ]
    },
    {
     "name": "stderr",
     "output_type": "stream",
     "text": [
      "\n",
      "100%|██████████| 2/2 [00:00<00:00,  9.47it/s, loss=0.82] \n"
     ]
    },
    {
     "name": "stdout",
     "output_type": "stream",
     "text": [
      " val_loss  = 0.7624370455741882\n",
      "--------- Epoch 2 ---------\n"
     ]
    },
    {
     "name": "stderr",
     "output_type": "stream",
     "text": [
      "100%|██████████| 6/6 [00:01<00:00,  4.05it/s, loss=0.429]"
     ]
    },
    {
     "name": "stdout",
     "output_type": "stream",
     "text": [
      " train_loss  = 0.4040589705109596\n"
     ]
    },
    {
     "name": "stderr",
     "output_type": "stream",
     "text": [
      "\n",
      "100%|██████████| 2/2 [00:00<00:00,  6.84it/s, loss=0.644]\n"
     ]
    },
    {
     "name": "stdout",
     "output_type": "stream",
     "text": [
      " val_loss  = 0.5778051912784576\n",
      "--------- Epoch 3 ---------\n"
     ]
    },
    {
     "name": "stderr",
     "output_type": "stream",
     "text": [
      "100%|██████████| 6/6 [00:01<00:00,  4.97it/s, loss=0.197]"
     ]
    },
    {
     "name": "stdout",
     "output_type": "stream",
     "text": [
      " train_loss  = 0.2357670192917188\n"
     ]
    },
    {
     "name": "stderr",
     "output_type": "stream",
     "text": [
      "\n",
      "100%|██████████| 2/2 [00:00<00:00,  9.54it/s, loss=0.532]\n"
     ]
    },
    {
     "name": "stdout",
     "output_type": "stream",
     "text": [
      " val_loss  = 0.47357162833213806\n",
      "--------- Epoch 4 ---------\n"
     ]
    },
    {
     "name": "stderr",
     "output_type": "stream",
     "text": [
      "100%|██████████| 6/6 [00:01<00:00,  5.11it/s, loss=0.102]"
     ]
    },
    {
     "name": "stdout",
     "output_type": "stream",
     "text": [
      " train_loss  = 0.10406382009387016\n"
     ]
    },
    {
     "name": "stderr",
     "output_type": "stream",
     "text": [
      "\n",
      "100%|██████████| 2/2 [00:00<00:00,  9.36it/s, loss=0.354]\n"
     ]
    },
    {
     "name": "stdout",
     "output_type": "stream",
     "text": [
      " val_loss  = 0.32535673677921295\n",
      "--------- Epoch 5 ---------\n"
     ]
    },
    {
     "name": "stderr",
     "output_type": "stream",
     "text": [
      "100%|██████████| 6/6 [00:01<00:00,  5.09it/s, loss=0.0748]"
     ]
    },
    {
     "name": "stdout",
     "output_type": "stream",
     "text": [
      " train_loss  = 0.08508242915074031\n"
     ]
    },
    {
     "name": "stderr",
     "output_type": "stream",
     "text": [
      "\n",
      "100%|██████████| 2/2 [00:00<00:00,  8.66it/s, loss=0.219]\n"
     ]
    },
    {
     "name": "stdout",
     "output_type": "stream",
     "text": [
      " val_loss  = 0.21018584817647934\n",
      "--------- Epoch 6 ---------\n"
     ]
    },
    {
     "name": "stderr",
     "output_type": "stream",
     "text": [
      "100%|██████████| 6/6 [00:01<00:00,  5.03it/s, loss=0.0883]"
     ]
    },
    {
     "name": "stdout",
     "output_type": "stream",
     "text": [
      " train_loss  = 0.09969191284229358\n"
     ]
    },
    {
     "name": "stderr",
     "output_type": "stream",
     "text": [
      "\n",
      "100%|██████████| 2/2 [00:00<00:00,  9.57it/s, loss=0.181]\n"
     ]
    },
    {
     "name": "stdout",
     "output_type": "stream",
     "text": [
      " val_loss  = 0.1875709891319275\n",
      "--------- Epoch 7 ---------\n"
     ]
    },
    {
     "name": "stderr",
     "output_type": "stream",
     "text": [
      "100%|██████████| 6/6 [00:01<00:00,  5.16it/s, loss=0.0515]"
     ]
    },
    {
     "name": "stdout",
     "output_type": "stream",
     "text": [
      " train_loss  = 0.06046051966647307\n"
     ]
    },
    {
     "name": "stderr",
     "output_type": "stream",
     "text": [
      "\n",
      "100%|██████████| 2/2 [00:00<00:00,  9.19it/s, loss=0.191]"
     ]
    },
    {
     "name": "stdout",
     "output_type": "stream",
     "text": [
      " val_loss  = 0.2031581625342369\n",
      "--------- Epoch 8 ---------\n"
     ]
    },
    {
     "name": "stderr",
     "output_type": "stream",
     "text": [
      "\n",
      "100%|██████████| 6/6 [00:01<00:00,  4.58it/s, loss=0.0441]"
     ]
    },
    {
     "name": "stdout",
     "output_type": "stream",
     "text": [
      " train_loss  = 0.04671833229561647\n"
     ]
    },
    {
     "name": "stderr",
     "output_type": "stream",
     "text": [
      "\n",
      "100%|██████████| 2/2 [00:00<00:00,  8.82it/s, loss=0.117]\n"
     ]
    },
    {
     "name": "stdout",
     "output_type": "stream",
     "text": [
      " val_loss  = 0.12629106268286705\n",
      "--------- Epoch 9 ---------\n"
     ]
    },
    {
     "name": "stderr",
     "output_type": "stream",
     "text": [
      "100%|██████████| 6/6 [00:01<00:00,  5.21it/s, loss=0.0372]"
     ]
    },
    {
     "name": "stdout",
     "output_type": "stream",
     "text": [
      " train_loss  = 0.0350369104805092\n"
     ]
    },
    {
     "name": "stderr",
     "output_type": "stream",
     "text": [
      "\n",
      "100%|██████████| 2/2 [00:00<00:00,  9.67it/s, loss=0.096] \n"
     ]
    },
    {
     "name": "stdout",
     "output_type": "stream",
     "text": [
      " val_loss  = 0.09842696040868759\n",
      "--------- Epoch 10 ---------\n"
     ]
    },
    {
     "name": "stderr",
     "output_type": "stream",
     "text": [
      "100%|██████████| 6/6 [00:01<00:00,  5.15it/s, loss=0.0733]"
     ]
    },
    {
     "name": "stdout",
     "output_type": "stream",
     "text": [
      " train_loss  = 0.10580235160887241\n"
     ]
    },
    {
     "name": "stderr",
     "output_type": "stream",
     "text": [
      "\n",
      "100%|██████████| 2/2 [00:00<00:00,  9.21it/s, loss=0.105] "
     ]
    },
    {
     "name": "stdout",
     "output_type": "stream",
     "text": [
      " val_loss  = 0.11015219241380692\n",
      "--------- Epoch 11 ---------\n"
     ]
    },
    {
     "name": "stderr",
     "output_type": "stream",
     "text": [
      "\n",
      "100%|██████████| 6/6 [00:01<00:00,  5.02it/s, loss=0.0251]"
     ]
    },
    {
     "name": "stdout",
     "output_type": "stream",
     "text": [
      " train_loss  = 0.02823814555692176\n"
     ]
    },
    {
     "name": "stderr",
     "output_type": "stream",
     "text": [
      "\n",
      "100%|██████████| 2/2 [00:00<00:00,  9.45it/s, loss=0.0902]"
     ]
    },
    {
     "name": "stdout",
     "output_type": "stream",
     "text": [
      " val_loss  = 0.11109751835465431\n",
      "--------- Epoch 12 ---------\n"
     ]
    },
    {
     "name": "stderr",
     "output_type": "stream",
     "text": [
      "\n",
      "100%|██████████| 6/6 [00:01<00:00,  5.10it/s, loss=0.0626]"
     ]
    },
    {
     "name": "stdout",
     "output_type": "stream",
     "text": [
      " train_loss  = 0.05765242176130414\n"
     ]
    },
    {
     "name": "stderr",
     "output_type": "stream",
     "text": [
      "\n",
      "100%|██████████| 2/2 [00:00<00:00,  9.83it/s, loss=0.101] "
     ]
    },
    {
     "name": "stdout",
     "output_type": "stream",
     "text": [
      " val_loss  = 0.12235543876886368\n",
      "--------- Epoch 13 ---------\n"
     ]
    },
    {
     "name": "stderr",
     "output_type": "stream",
     "text": [
      "\n",
      "100%|██████████| 6/6 [00:01<00:00,  5.22it/s, loss=0.0333]"
     ]
    },
    {
     "name": "stdout",
     "output_type": "stream",
     "text": [
      " train_loss  = 0.03678139694966376\n"
     ]
    },
    {
     "name": "stderr",
     "output_type": "stream",
     "text": [
      "\n",
      "100%|██████████| 2/2 [00:00<00:00,  9.00it/s, loss=0.0662]\n"
     ]
    },
    {
     "name": "stdout",
     "output_type": "stream",
     "text": [
      " val_loss  = 0.08209102414548397\n",
      "--------- Epoch 14 ---------\n"
     ]
    },
    {
     "name": "stderr",
     "output_type": "stream",
     "text": [
      "100%|██████████| 6/6 [00:01<00:00,  4.65it/s, loss=0.0283] "
     ]
    },
    {
     "name": "stdout",
     "output_type": "stream",
     "text": [
      " train_loss  = 0.03477848724772533\n"
     ]
    },
    {
     "name": "stderr",
     "output_type": "stream",
     "text": [
      "\n",
      "100%|██████████| 2/2 [00:00<00:00,  8.11it/s, loss=0.127]"
     ]
    },
    {
     "name": "stdout",
     "output_type": "stream",
     "text": [
      " val_loss  = 0.12780380249023438\n",
      "--------- Epoch 15 ---------\n"
     ]
    },
    {
     "name": "stderr",
     "output_type": "stream",
     "text": [
      "\n",
      "100%|██████████| 6/6 [00:01<00:00,  5.18it/s, loss=0.113] "
     ]
    },
    {
     "name": "stdout",
     "output_type": "stream",
     "text": [
      " train_loss  = 0.18298332144816717\n"
     ]
    },
    {
     "name": "stderr",
     "output_type": "stream",
     "text": [
      "\n",
      "100%|██████████| 2/2 [00:00<00:00,  9.70it/s, loss=0.274]"
     ]
    },
    {
     "name": "stdout",
     "output_type": "stream",
     "text": [
      " val_loss  = 0.22069763392210007\n",
      "--------- Epoch 16 ---------\n"
     ]
    },
    {
     "name": "stderr",
     "output_type": "stream",
     "text": [
      "\n",
      "100%|██████████| 6/6 [00:01<00:00,  5.10it/s, loss=0.033] "
     ]
    },
    {
     "name": "stdout",
     "output_type": "stream",
     "text": [
      " train_loss  = 0.03322739588717619\n"
     ]
    },
    {
     "name": "stderr",
     "output_type": "stream",
     "text": [
      "\n",
      "100%|██████████| 2/2 [00:00<00:00,  9.09it/s, loss=0.56]"
     ]
    },
    {
     "name": "stdout",
     "output_type": "stream",
     "text": [
      " val_loss  = 0.45761220157146454\n",
      "--------- Epoch 17 ---------\n"
     ]
    },
    {
     "name": "stderr",
     "output_type": "stream",
     "text": [
      "\n",
      "100%|██████████| 6/6 [00:01<00:00,  5.06it/s, loss=0.0559]"
     ]
    },
    {
     "name": "stdout",
     "output_type": "stream",
     "text": [
      " train_loss  = 0.05521114698300759\n"
     ]
    },
    {
     "name": "stderr",
     "output_type": "stream",
     "text": [
      "\n",
      "100%|██████████| 2/2 [00:00<00:00,  9.34it/s, loss=0.406]"
     ]
    },
    {
     "name": "stdout",
     "output_type": "stream",
     "text": [
      "Epoch    18: reducing learning rate of group 0 to 2.0000e-05.\n",
      " val_loss  = 0.3190164677798748\n",
      "--------- Epoch 18 ---------\n"
     ]
    },
    {
     "name": "stderr",
     "output_type": "stream",
     "text": [
      "\n",
      "100%|██████████| 6/6 [00:01<00:00,  5.03it/s, loss=0.0244]"
     ]
    },
    {
     "name": "stdout",
     "output_type": "stream",
     "text": [
      " train_loss  = 0.022816738734642666\n"
     ]
    },
    {
     "name": "stderr",
     "output_type": "stream",
     "text": [
      "\n",
      "100%|██████████| 2/2 [00:00<00:00,  9.02it/s, loss=0.296]"
     ]
    },
    {
     "name": "stdout",
     "output_type": "stream",
     "text": [
      " val_loss  = 0.2523243948817253\n",
      "--------- Epoch 19 ---------\n"
     ]
    },
    {
     "name": "stderr",
     "output_type": "stream",
     "text": [
      "\n",
      "100%|██████████| 6/6 [00:01<00:00,  5.28it/s, loss=0.0616]"
     ]
    },
    {
     "name": "stdout",
     "output_type": "stream",
     "text": [
      " train_loss  = 0.10105496505275369\n"
     ]
    },
    {
     "name": "stderr",
     "output_type": "stream",
     "text": [
      "\n",
      "100%|██████████| 2/2 [00:00<00:00,  6.01it/s, loss=0.353]\n"
     ]
    },
    {
     "name": "stdout",
     "output_type": "stream",
     "text": [
      " val_loss  = 0.32197142392396927\n",
      "Eraly Stopping on Epoch 19\n",
      "Best Loss =  0.08209102414548397\n"
     ]
    }
   ],
   "source": [
    "# Setting Hyper Parametres \n",
    "lr = 0.0001 \n",
    "epochs = 100\n",
    "batch_size = 16 \n",
    "model_path = 'face_recognation.pth' \n",
    "device = torch.device('cuda')\n",
    "\n",
    "model = FaceNet(num_classes = 5 , pretrained = True)\n",
    "model = model.to(device)\n",
    "\n",
    "train_dataset = MaskFaceDetectionDataset(train.unmasked_path.values , train['class'].values , is_train = True) \n",
    "valid_dataset = MaskFaceDetectionDataset(valid.unmasked_path.values , valid['class'].values  ,  is_train = False) \n",
    "\n",
    "def loss_fn(outputs, targets) : \n",
    "    targets = targets.to(device , dtype = torch.long)\n",
    "    return nn.CrossEntropyLoss()(outputs , targets )\n",
    "\n",
    "val_loss , train_loss = run(\n",
    "    model,\n",
    "    train_dataset,\n",
    "    valid_dataset,\n",
    "    loss_fn,\n",
    "    lr,\n",
    "    epochs,\n",
    "    batch_size,\n",
    "    batch_size,\n",
    "    device,\n",
    "    model_path,\n",
    ")"
   ]
  },
  {
   "cell_type": "code",
   "execution_count": 17,
   "metadata": {},
   "outputs": [
    {
     "data": {
      "image/png": "[encoded data removed]",
      "text/plain": [
       "<Figure size 432x288 with 1 Axes>"
      ]
     },
     "metadata": {
      "needs_background": "light"
     },
     "output_type": "display_data"
    }
   ],
   "source": [
    "# summarize history for accuracy\n",
    "plt.plot(np.sqrt(train_loss)) \n",
    "plt.plot(np.sqrt(val_loss))\n",
    "plt.title('mean squared error')\n",
    "plt.ylabel('loss')\n",
    "plt.xlabel('epoch')\n",
    "plt.legend(['train', 'val'], loc='upper right')\n",
    "plt.show()"
   ]
  },
  {
   "cell_type": "markdown",
   "metadata": {
    "papermill": {
     "duration": 2.453219,
     "end_time": "2021-01-02T08:51:37.408198",
     "exception": false,
     "start_time": "2021-01-02T08:51:34.954979",
     "status": "completed"
    },
    "tags": []
   },
   "source": [
    "# Model Evaluation "
   ]
  },
  {
   "cell_type": "code",
   "execution_count": 18,
   "metadata": {},
   "outputs": [],
   "source": [
    "def softmax(z):\n",
    "    assert len(z.shape) == 2\n",
    "    s = np.max(z, axis=1)\n",
    "    s = s[:, np.newaxis] # necessary step to do broadcasting\n",
    "    e_x = np.exp(z - s)\n",
    "    div = np.sum(e_x, axis=1)\n",
    "    div = div[:, np.newaxis] # dito\n",
    "    return e_x / div"
   ]
  },
  {
   "cell_type": "code",
   "execution_count": 19,
   "metadata": {
    "execution": {
     "iopub.execute_input": "2021-01-02T08:51:41.772291Z",
     "iopub.status.busy": "2021-01-02T08:51:41.770852Z",
     "iopub.status.idle": "2021-01-02T08:51:48.214694Z",
     "shell.execute_reply": "2021-01-02T08:51:48.215189Z"
    },
    "papermill": {
     "duration": 8.622062,
     "end_time": "2021-01-02T08:51:48.215371",
     "exception": false,
     "start_time": "2021-01-02T08:51:39.593309",
     "status": "completed"
    },
    "tags": []
   },
   "outputs": [
    {
     "name": "stderr",
     "output_type": "stream",
     "text": [
      "100%|██████████| 1/1 [00:00<00:00,  5.07it/s]\n"
     ]
    }
   ],
   "source": [
    "pred  = predict(model , valid_dataset)\n",
    "pred = sigmod(pred)\n",
    "valid['predictions'] = softmax(pred).argmax(axis=1)"
   ]
  },
  {
   "cell_type": "code",
   "execution_count": 20,
   "metadata": {},
   "outputs": [
    {
     "data": {
      "text/plain": [
       "1.0"
      ]
     },
     "execution_count": 20,
     "metadata": {},
     "output_type": "execute_result"
    }
   ],
   "source": [
    "accuracy_score(valid['class'].values, valid.predictions.values)"
   ]
  },
  {
   "cell_type": "code",
   "execution_count": 23,
   "metadata": {
    "papermill": {
     "duration": 2.382157,
     "end_time": "2021-01-02T08:52:06.803939",
     "exception": false,
     "start_time": "2021-01-02T08:52:04.421782",
     "status": "completed"
    },
    "tags": []
   },
   "outputs": [
    {
     "data": {
      "text/plain": [
       "<AxesSubplot:>"
      ]
     },
     "execution_count": 23,
     "metadata": {},
     "output_type": "execute_result"
    },
    {
     "data": {
      "image/png": "[encoded data removed]",
      "text/plain": [
       "<Figure size 864x576 with 2 Axes>"
      ]
     },
     "metadata": {
      "needs_background": "light"
     },
     "output_type": "display_data"
    }
   ],
   "source": [
    "plt.figure(1, figsize=(12,8))\n",
    "sns.heatmap(metrics.confusion_matrix(valid['class'].values, valid.predictions.values))"
   ]
  },
  {
   "cell_type": "code",
   "execution_count": 24,
   "metadata": {},
   "outputs": [
    {
     "name": "stdout",
     "output_type": "stream",
     "text": [
      "              precision    recall  f1-score   support\n",
      "\n",
      "           0       1.00      1.00      1.00         4\n",
      "           1       1.00      1.00      1.00         5\n",
      "           2       1.00      1.00      1.00         5\n",
      "           3       1.00      1.00      1.00         4\n",
      "           4       1.00      1.00      1.00         5\n",
      "\n",
      "    accuracy                           1.00        23\n",
      "   macro avg       1.00      1.00      1.00        23\n",
      "weighted avg       1.00      1.00      1.00        23\n",
      "\n"
     ]
    }
   ],
   "source": [
    "print(metrics.classification_report(valid['class'].values, valid.predictions.values))\n"
   ]
  },
  {
   "cell_type": "markdown",
   "metadata": {},
   "source": [
    "# Export model with ONNX"
   ]
  },
  {
   "cell_type": "code",
   "execution_count": 30,
   "metadata": {},
   "outputs": [],
   "source": [
    "# Export the model\n",
    "x = valid_dataset[1]['image'].unsqueeze(0).to(device , dtype = torch.float)\n",
    "torch.onnx.export(model,               # model being run\n",
    "                  x,                         # model input (or a tuple for multiple inputs)\n",
    "                  \"unmasked_face_recognizer.onnx\",   # where to save the model (can be a file or file-like object)\n",
    "                  export_params=True,        # store the trained parameter weights inside the model file\n",
    "                  opset_version=10,          # the ONNX version to export the model to\n",
    "                  do_constant_folding=True,  # whether to execute constant folding for optimization\n",
    "                  input_names = ['input'],   # the model's input names\n",
    "                  output_names = ['output'], # the model's output names\n",
    "                  dynamic_axes={'input' : {0 : 'batch_size'},    # variable lenght axes\n",
    "                                'output' : {0 : 'batch_size'}}\n",
    "                 )"
   ]
  }
 ],
 "metadata": {
  "kernelspec": {
   "display_name": "Python 3",
   "language": "python",
   "name": "python3"
  },
  "language_info": {
   "codemirror_mode": {
    "name": "ipython",
    "version": 3
   },
   "file_extension": ".py",
   "mimetype": "text/x-python",
   "name": "python",
   "nbconvert_exporter": "python",
   "pygments_lexer": "ipython3",
   "version": "3.8.5"
  }
 },
 "nbformat": 4,
 "nbformat_minor": 4
}
